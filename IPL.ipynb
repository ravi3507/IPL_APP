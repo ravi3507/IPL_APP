{
 "cells": [
  {
   "cell_type": "code",
   "execution_count": 12,
   "metadata": {},
   "outputs": [
    {
     "ename": "ModuleNotFoundError",
     "evalue": "No module named 'sklearn'",
     "output_type": "error",
     "traceback": [
      "\u001b[1;31m---------------------------------------------------------------------------\u001b[0m",
      "\u001b[1;31mModuleNotFoundError\u001b[0m                       Traceback (most recent call last)",
      "Cell \u001b[1;32mIn [12], line 7\u001b[0m\n\u001b[0;32m      5\u001b[0m \u001b[39mimport\u001b[39;00m \u001b[39mseaborn\u001b[39;00m \u001b[39mas\u001b[39;00m \u001b[39msns\u001b[39;00m\n\u001b[0;32m      6\u001b[0m \u001b[39mfrom\u001b[39;00m \u001b[39mdatetime\u001b[39;00m \u001b[39mimport\u001b[39;00m datetime\n\u001b[1;32m----> 7\u001b[0m \u001b[39mimport\u001b[39;00m \u001b[39msklearn\u001b[39;00m\n\u001b[0;32m      8\u001b[0m \u001b[39mfrom\u001b[39;00m \u001b[39msklearn\u001b[39;00m\u001b[39m.\u001b[39;00m\u001b[39mlinear_model\u001b[39;00m \u001b[39mimport\u001b[39;00m Ridge\n\u001b[0;32m      9\u001b[0m \u001b[39mfrom\u001b[39;00m \u001b[39msklearn\u001b[39;00m\u001b[39m.\u001b[39;00m\u001b[39mpreprocessing\u001b[39;00m \u001b[39mimport\u001b[39;00m StandardScaler,MinMaxScaler\n",
      "\u001b[1;31mModuleNotFoundError\u001b[0m: No module named 'sklearn'"
     ]
    }
   ],
   "source": [
    "import joblib\n",
    "import pickle\n",
    "import numpy as np\n",
    "import pandas as pd\n",
    "import seaborn as sns\n",
    "\n",
    "from sklearn.linear_model import Ridge\n",
    "from sklearn.preprocessing import StandardScaler,MinMaxScaler\n",
    "from sklearn.model_selection import RandomizedSearchCV\n",
    "from sklearn.metrics import r2_score,mean_absolute_error,mean_squared_error"
   ]
  },
  {
   "cell_type": "code",
   "execution_count": 9,
   "metadata": {},
   "outputs": [
    {
     "data": {
      "text/html": [
       "<div>\n",
       "<style scoped>\n",
       "    .dataframe tbody tr th:only-of-type {\n",
       "        vertical-align: middle;\n",
       "    }\n",
       "\n",
       "    .dataframe tbody tr th {\n",
       "        vertical-align: top;\n",
       "    }\n",
       "\n",
       "    .dataframe thead th {\n",
       "        text-align: right;\n",
       "    }\n",
       "</style>\n",
       "<table border=\"1\" class=\"dataframe\">\n",
       "  <thead>\n",
       "    <tr style=\"text-align: right;\">\n",
       "      <th></th>\n",
       "      <th>mid</th>\n",
       "      <th>date</th>\n",
       "      <th>venue</th>\n",
       "      <th>bat_team</th>\n",
       "      <th>bowl_team</th>\n",
       "      <th>batsman</th>\n",
       "      <th>bowler</th>\n",
       "      <th>runs</th>\n",
       "      <th>wickets</th>\n",
       "      <th>overs</th>\n",
       "      <th>runs_last_5</th>\n",
       "      <th>wickets_last_5</th>\n",
       "      <th>striker</th>\n",
       "      <th>non-striker</th>\n",
       "      <th>total</th>\n",
       "    </tr>\n",
       "  </thead>\n",
       "  <tbody>\n",
       "    <tr>\n",
       "      <th>0</th>\n",
       "      <td>1</td>\n",
       "      <td>2008-04-18</td>\n",
       "      <td>M Chinnaswamy Stadium</td>\n",
       "      <td>Kolkata Knight Riders</td>\n",
       "      <td>Royal Challengers Bangalore</td>\n",
       "      <td>SC Ganguly</td>\n",
       "      <td>P Kumar</td>\n",
       "      <td>1</td>\n",
       "      <td>0</td>\n",
       "      <td>0.1</td>\n",
       "      <td>1</td>\n",
       "      <td>0</td>\n",
       "      <td>0</td>\n",
       "      <td>0</td>\n",
       "      <td>222</td>\n",
       "    </tr>\n",
       "    <tr>\n",
       "      <th>1</th>\n",
       "      <td>1</td>\n",
       "      <td>2008-04-18</td>\n",
       "      <td>M Chinnaswamy Stadium</td>\n",
       "      <td>Kolkata Knight Riders</td>\n",
       "      <td>Royal Challengers Bangalore</td>\n",
       "      <td>BB McCullum</td>\n",
       "      <td>P Kumar</td>\n",
       "      <td>1</td>\n",
       "      <td>0</td>\n",
       "      <td>0.2</td>\n",
       "      <td>1</td>\n",
       "      <td>0</td>\n",
       "      <td>0</td>\n",
       "      <td>0</td>\n",
       "      <td>222</td>\n",
       "    </tr>\n",
       "  </tbody>\n",
       "</table>\n",
       "</div>"
      ],
      "text/plain": [
       "   mid        date                  venue               bat_team  \\\n",
       "0    1  2008-04-18  M Chinnaswamy Stadium  Kolkata Knight Riders   \n",
       "1    1  2008-04-18  M Chinnaswamy Stadium  Kolkata Knight Riders   \n",
       "\n",
       "                     bowl_team      batsman   bowler  runs  wickets  overs  \\\n",
       "0  Royal Challengers Bangalore   SC Ganguly  P Kumar     1        0    0.1   \n",
       "1  Royal Challengers Bangalore  BB McCullum  P Kumar     1        0    0.2   \n",
       "\n",
       "   runs_last_5  wickets_last_5  striker  non-striker  total  \n",
       "0            1               0        0            0    222  \n",
       "1            1               0        0            0    222  "
      ]
     },
     "execution_count": 9,
     "metadata": {},
     "output_type": "execute_result"
    }
   ],
   "source": [
    "df = pd.read_csv('ipl.csv')\n",
    "df.head(2)"
   ]
  },
  {
   "cell_type": "code",
   "execution_count": null,
   "metadata": {},
   "outputs": [
    {
     "ename": "",
     "evalue": "",
     "output_type": "error",
     "traceback": [
      "\u001b[1;31mRunning cells with 'Python 3.10.8 64-bit (microsoft store)' requires ipykernel package.\n",
      "\u001b[1;31mRun the following command to install 'ipykernel' into the Python environment. \n",
      "\u001b[1;31mCommand: '\"c:/Users/Ravi Pandey/AppData/Local/Microsoft/WindowsApps/python3.10.exe\" -m pip install ipykernel -U --force-reinstall'"
     ]
    }
   ],
   "source": [
    "cols_to_drop = ['mid','batsman','bowler','striker','non-striker']\n",
    "df.drop(cols_to_drop,axis=1,inplace=True)\n",
    "\n",
    "\n",
    "# convert the date column to datetime column\n",
    "df['date'] = df['date'].apply(lambda x: datetime.strptime(x,'%Y-%m-%d'))\n",
    "\n",
    "\n",
    "# we have to remove temporary teams or the teams which are not available now\n",
    "consistent_teams = ['Chennai Super Kings', 'Delhi Daredevils', \n",
    "                    'Kings XI Punjab', 'Kolkata Knight Riders', \n",
    "                    'Mumbai Indians', 'Rajasthan Royals', \n",
    "                    'Royal Challengers Bangalore', 'Sunrisers Hyderabad']\n",
    "\n",
    "df = df[(df['bat_team'].isin(consistent_teams)) & (df['bowl_team'].isin(consistent_teams))]\n",
    "\n",
    "\n",
    "# we don't want first five overs data\n",
    "df = df[df['overs']>=5.0]\n",
    "\n",
    "\n",
    "\n",
    "def f(x):\n",
    "    if x=='M Chinnaswamy Stadium':\n",
    "        return 'M Chinnaswamy Stadium, Bangalore'\n",
    "    elif x=='Feroz Shah Kotla':\n",
    "        return 'Feroz Shah Kotla, Delhi'\n",
    "    elif x=='Wankhede Stadium':\n",
    "        return 'Wankhede Stadium, Mumbai'\n",
    "    elif x=='Sawai Mansingh Stadium':\n",
    "        return 'Sawai Mansingh Stadium, Jaipur'\n",
    "    elif x=='Eden Gardens':\n",
    "        return 'Eden Gardens, Kolkata'\n",
    "    elif x=='Dr DY Patil Sports Academy':\n",
    "        return 'Dr DY Patil Sports Academy, Mumbai'\n",
    "    elif x=='Himachal Pradesh Cricket Association Stadium':\n",
    "        return 'Himachal Pradesh Cricket Association Stadium, Dharamshala'\n",
    "    elif x=='Subrata Roy Sahara Stadium':\n",
    "        return 'Maharashtra Cricket Association Stadium, Pune'\n",
    "    elif x=='Shaheed Veer Narayan Singh International Stadium':\n",
    "        return 'Raipur International Cricket Stadium, Raipur'\n",
    "    elif x=='JSCA International Stadium Complex':\n",
    "        return 'JSCA International Stadium Complex, Ranchi'\n",
    "    elif x=='Maharashtra Cricket Association Stadium':\n",
    "        return 'Maharashtra Cricket Association Stadium, Pune'\n",
    "    elif x=='Dr. Y.S. Rajasekhara Reddy ACA-VDCA Cricket Stadium':\n",
    "        return 'ACA-VDCA Stadium, Visakhapatnam'\n",
    "    elif x=='Punjab Cricket Association IS Bindra Stadium, Mohali':\n",
    "        return 'Punjab Cricket Association Stadium, Mohali'\n",
    "    elif x=='Holkar Cricket Stadium':\n",
    "        return 'Holkar Cricket Stadium, Indore'\n",
    "    elif x=='Sheikh Zayed Stadium':\n",
    "        return 'Sheikh Zayed Stadium, Abu-Dhabi'\n",
    "    elif x=='Sharjah Cricket Stadium':\n",
    "        return 'Sharjah Cricket Stadium, Sharjah'\n",
    "    elif x=='Dubai International Cricket Stadium':\n",
    "        return 'Dubai International Cricket Stadium, Dubai'\n",
    "    elif x=='Barabati Stadium':\n",
    "        return 'Barabati Stadium, Cuttack'\n",
    "    else:\n",
    "        return x\n",
    "\n",
    "ignored_stadiums = ['Newlands', \"St George's Park\",\n",
    "                    'Kingsmead', 'SuperSport Park', 'Buffalo Park',\n",
    "                    'New Wanderers Stadium', 'De Beers Diamond Oval',\n",
    "                    'OUTsurance Oval', 'Brabourne Stadium']\n",
    "\n",
    "df = df[True^(df['venue'].isin(ignored_stadiums))]\n",
    "df['venue'] = df['venue'].apply(f)\n",
    "\n",
    "df_new = pd.get_dummies(data=df,columns=['venue','bat_team','bowl_team'])\n",
    "\n",
    "\n",
    "\n",
    "\n",
    "df_new = df_new[['date','venue_ACA-VDCA Stadium, Visakhapatnam',\n",
    "       'venue_Barabati Stadium, Cuttack', 'venue_Dr DY Patil Sports Academy, Mumbai',\n",
    "       'venue_Dubai International Cricket Stadium, Dubai',\n",
    "       'venue_Eden Gardens, Kolkata', 'venue_Feroz Shah Kotla, Delhi',\n",
    "       'venue_Himachal Pradesh Cricket Association Stadium, Dharamshala',\n",
    "       'venue_Holkar Cricket Stadium, Indore',\n",
    "       'venue_JSCA International Stadium Complex, Ranchi',\n",
    "       'venue_M Chinnaswamy Stadium, Bangalore',\n",
    "       'venue_MA Chidambaram Stadium, Chepauk',\n",
    "       'venue_Maharashtra Cricket Association Stadium, Pune',\n",
    "       'venue_Punjab Cricket Association Stadium, Mohali',\n",
    "       'venue_Raipur International Cricket Stadium, Raipur',\n",
    "       'venue_Rajiv Gandhi International Stadium, Uppal',\n",
    "       'venue_Sardar Patel Stadium, Motera',\n",
    "       'venue_Sawai Mansingh Stadium, Jaipur',\n",
    "       'venue_Sharjah Cricket Stadium, Sharjah',\n",
    "       'venue_Sheikh Zayed Stadium, Abu-Dhabi',\n",
    "       'venue_Wankhede Stadium, Mumbai','bat_team_Chennai Super Kings',\n",
    "       'bat_team_Delhi Daredevils', 'bat_team_Kings XI Punjab',\n",
    "       'bat_team_Kolkata Knight Riders', 'bat_team_Mumbai Indians',\n",
    "       'bat_team_Rajasthan Royals', 'bat_team_Royal Challengers Bangalore',\n",
    "       'bat_team_Sunrisers Hyderabad','bowl_team_Chennai Super Kings',\n",
    "       'bowl_team_Delhi Daredevils', 'bowl_team_Kings XI Punjab',\n",
    "       'bowl_team_Kolkata Knight Riders', 'bowl_team_Mumbai Indians',\n",
    "       'bowl_team_Rajasthan Royals', 'bowl_team_Royal Challengers Bangalore',\n",
    "       'bowl_team_Sunrisers Hyderabad','runs', 'wickets', 'overs', 'runs_last_5', 'wickets_last_5',\n",
    "       'total']]\n",
    "\n",
    "df_new.reset_index(inplace=True)\n",
    "df_new.drop('index',inplace=True,axis=1)\n",
    "\n",
    "df_new.head(2)"
   ]
  },
  {
   "cell_type": "code",
   "execution_count": null,
   "metadata": {},
   "outputs": [
    {
     "ename": "",
     "evalue": "",
     "output_type": "error",
     "traceback": [
      "\u001b[1;31mRunning cells with 'Python 3.10.8 64-bit (microsoft store)' requires ipykernel package.\n",
      "\u001b[1;31mRun the following command to install 'ipykernel' into the Python environment. \n",
      "\u001b[1;31mCommand: '\"c:/Users/Ravi Pandey/AppData/Local/Microsoft/WindowsApps/python3.10.exe\" -m pip install ipykernel -U --force-reinstall'"
     ]
    }
   ],
   "source": [
    "scaler = StandardScaler()\n",
    "scaled_cols = scaler.fit_transform(df_new[['runs', 'wickets', 'overs', 'runs_last_5', 'wickets_last_5']])\n",
    "pickle.dump(scaler, open('scaler.pkl','wb'))\n",
    "\n",
    "scaled_cols = pd.DataFrame(scaled_cols,columns=['runs', 'wickets', 'overs', 'runs_last_5', 'wickets_last_5'])\n",
    "df_new.drop(['runs', 'wickets', 'overs', 'runs_last_5', 'wickets_last_5'],axis=1,inplace=True)\n",
    "df_new = pd.concat([df_new,scaled_cols],axis=1)\n",
    "\n",
    "\n",
    "X_train = df_new.drop('total',axis=1)[df_new['date'].dt.year<=2016]\n",
    "X_test = df_new.drop('total',axis=1)[df_new['date'].dt.year>=2017]\n",
    "\n",
    "X_train.drop('date',inplace=True,axis=1)\n",
    "X_test.drop('date',inplace=True,axis=1)\n",
    "\n",
    "\n",
    "y_train = df_new[df_new['date'].dt.year<=2016]['total'].values\n",
    "y_test = df_new[df_new['date'].dt.year>=2017]['total'].values"
   ]
  },
  {
   "cell_type": "markdown",
   "metadata": {},
   "source": [
    "## Ridge Regressor"
   ]
  },
  {
   "cell_type": "code",
   "execution_count": null,
   "metadata": {
    "scrolled": true
   },
   "outputs": [
    {
     "ename": "",
     "evalue": "",
     "output_type": "error",
     "traceback": [
      "\u001b[1;31mRunning cells with 'Python 3.10.8 64-bit (microsoft store)' requires ipykernel package.\n",
      "\u001b[1;31mRun the following command to install 'ipykernel' into the Python environment. \n",
      "\u001b[1;31mCommand: '\"c:/Users/Ravi Pandey/AppData/Local/Microsoft/WindowsApps/python3.10.exe\" -m pip install ipykernel -U --force-reinstall'"
     ]
    }
   ],
   "source": [
    "ridge = Ridge()\n",
    "parameters={'alpha':[1e-3,1e-2,1,5,10,20]}\n",
    "ridge_regressor = RandomizedSearchCV(ridge,parameters,cv=10,scoring='neg_mean_squared_error')\n",
    "ridge_regressor.fit(X_train,y_train)"
   ]
  },
  {
   "cell_type": "code",
   "execution_count": null,
   "metadata": {},
   "outputs": [
    {
     "ename": "",
     "evalue": "",
     "output_type": "error",
     "traceback": [
      "\u001b[1;31mRunning cells with 'Python 3.10.8 64-bit (microsoft store)' requires ipykernel package.\n",
      "\u001b[1;31mRun the following command to install 'ipykernel' into the Python environment. \n",
      "\u001b[1;31mCommand: '\"c:/Users/Ravi Pandey/AppData/Local/Microsoft/WindowsApps/python3.10.exe\" -m pip install ipykernel -U --force-reinstall'"
     ]
    }
   ],
   "source": [
    "print(ridge_regressor.best_params_)\n",
    "print(ridge_regressor.best_score_)\n",
    "\n",
    "prediction_r = ridge_regressor.predict(X_test)\n",
    "print('MAE:', mean_absolute_error(y_test, prediction_r))\n",
    "print('MSE:', mean_squared_error(y_test, prediction_r))\n",
    "print('RMSE:', np.sqrt(mean_squared_error(y_test, prediction_r)))\n",
    "print(f'r2 score of ridge : {r2_score(y_test,prediction_r)}')"
   ]
  },
  {
   "cell_type": "code",
   "execution_count": null,
   "metadata": {},
   "outputs": [
    {
     "ename": "",
     "evalue": "",
     "output_type": "error",
     "traceback": [
      "\u001b[1;31mRunning cells with 'Python 3.10.8 64-bit (microsoft store)' requires ipykernel package.\n",
      "\u001b[1;31mRun the following command to install 'ipykernel' into the Python environment. \n",
      "\u001b[1;31mCommand: '\"c:/Users/Ravi Pandey/AppData/Local/Microsoft/WindowsApps/python3.10.exe\" -m pip install ipykernel -U --force-reinstall'"
     ]
    }
   ],
   "source": [
    "sns.distplot(y_test-prediction_r)"
   ]
  },
  {
   "cell_type": "code",
   "execution_count": null,
   "metadata": {
    "scrolled": true
   },
   "outputs": [
    {
     "ename": "",
     "evalue": "",
     "output_type": "error",
     "traceback": [
      "\u001b[1;31mRunning cells with 'Python 3.10.8 64-bit (microsoft store)' requires ipykernel package.\n",
      "\u001b[1;31mRun the following command to install 'ipykernel' into the Python environment. \n",
      "\u001b[1;31mCommand: '\"c:/Users/Ravi Pandey/AppData/Local/Microsoft/WindowsApps/python3.10.exe\" -m pip install ipykernel -U --force-reinstall'"
     ]
    }
   ],
   "source": [
    "joblib.dump(ridge_regressor,'iplmodel_ridge.sav')"
   ]
  }
 ],
 "metadata": {
  "kernelspec": {
   "display_name": "Python 3.10.8 ('env': venv)",
   "language": "python",
   "name": "python3"
  },
  "language_info": {
   "codemirror_mode": {
    "name": "ipython",
    "version": 3
   },
   "file_extension": ".py",
   "mimetype": "text/x-python",
   "name": "python",
   "nbconvert_exporter": "python",
   "pygments_lexer": "ipython3",
   "version": "3.10.8"
  },
  "vscode": {
   "interpreter": {
    "hash": "068c5aebf2700e60089cce41b7a93475f7f66bcc31835bce4a8242d74384022a"
   }
  }
 },
 "nbformat": 4,
 "nbformat_minor": 4
}
